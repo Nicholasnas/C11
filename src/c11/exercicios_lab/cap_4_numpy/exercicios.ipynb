{
 "cells": [
  {
   "cell_type": "code",
   "execution_count": 1,
   "id": "17059a5e",
   "metadata": {},
   "outputs": [],
   "source": [
    "import numpy as np"
   ]
  },
  {
   "cell_type": "code",
   "execution_count": 2,
   "id": "4fbb471b",
   "metadata": {},
   "outputs": [
    {
     "name": "stdout",
     "output_type": "stream",
     "text": [
      "[1. 1. 1. 1. 1. 1. 1. 1.]\n",
      "[2 9 9 7 2 9 9 2]\n",
      "[ 3. 10. 10.  8.  3. 10. 10.  3.]\n"
     ]
    }
   ],
   "source": [
    "# Exericicio 1\n",
    "ones = np.ones(8)\n",
    "aleatorio = np.random.randint(0,10,8)\n",
    "\n",
    "soma = ones + aleatorio\n",
    "print(ones)\n",
    "print(aleatorio)\n",
    "print(soma)\n",
    "\n"
   ]
  },
  {
   "cell_type": "code",
   "execution_count": 3,
   "id": "a0c38ef7",
   "metadata": {},
   "outputs": [
    {
     "name": "stdout",
     "output_type": "stream",
     "text": [
      "[[ 3. 10.]\n",
      " [10.  8.]\n",
      " [ 3. 10.]\n",
      " [10.  3.]]\n"
     ]
    }
   ],
   "source": [
    "if sum(soma) >= 40:\n",
    "    soma = soma.reshape(4,2)\n",
    "else:\n",
    "    soma = soma.reshape(2,4)\n",
    "\n",
    "print(soma)"
   ]
  },
  {
   "cell_type": "code",
   "execution_count": 4,
   "id": "1366990a",
   "metadata": {},
   "outputs": [
    {
     "name": "stdout",
     "output_type": "stream",
     "text": [
      "[  0   2   4   6   8  10  12  14  16  18  20  22  24  26  28  30  32  34\n",
      "  36  38  40  42  44  46  48  50  50  52  54  56  58  60  62  64  66  68\n",
      "  70  72  74  76  78  80  82  84  86  88  90  92  94  96  98 100]\n"
     ]
    }
   ],
   "source": [
    "# Exercicio 2\n",
    "pares1 = np.arange(0,51,2)\n",
    "pares2 = np.arange(100,49,-2)\n",
    "\n",
    "array = np.concatenate((pares1, pares2))\n",
    "array.sort() # ordenando o array\n",
    "print(array)\n",
    "\n"
   ]
  },
  {
   "cell_type": "code",
   "execution_count": 5,
   "id": "4b34552f",
   "metadata": {},
   "outputs": [
    {
     "name": "stdout",
     "output_type": "stream",
     "text": [
      "bomba na posição:  1 1\n",
      "Selecione um posição da matriz: \n",
      "Game Over! :( Try Again! \n"
     ]
    }
   ],
   "source": [
    "# Exercicio 3 - Campo minado\n",
    "from random import randint\n",
    "import numpy as np\n",
    "\n",
    "\n",
    "matriz = np.zeros((2,2))\n",
    "\n",
    "number_linha = randint(0,1)\n",
    "number_coluna = randint(0,1)\n",
    "\n",
    "matriz[number_linha][number_coluna] = 1\n",
    "\n",
    "print('bomba na posição: ', number_linha, number_coluna)\n",
    "\n",
    "jogadas = 3\n",
    "acertos = 0\n",
    "\n",
    "while jogadas > 0:\n",
    "    print(\"Selecione um posição da matriz: \")\n",
    "    linha = int(input(\"Entre com a linha ( 0 ou 1): \"))\n",
    "    coluna = int(input(\"Entre com a coluna ( 0 ou 1): \"))\n",
    "    \n",
    "    if matriz[linha][coluna] == 0:\n",
    "        print(\"Correto acertou uma posição!\".center(50,'-'))\n",
    "        matriz[linha][coluna] = 2 # local descoberto\n",
    "        \n",
    "        acertos += 1\n",
    "        if acertos == 3:\n",
    "            print(\"Congratulations! You beat the game!\")\n",
    "            break\n",
    "        \n",
    "    elif matriz[linha][coluna] == 2:\n",
    "        print(\"posição já escolhida\")\n",
    "        continue\n",
    "    \n",
    "    else:\n",
    "        print(\"Game Over! :( Try Again! \")\n",
    "        break   \n",
    "        \n",
    "    jogadas -= 1\n",
    "            \n",
    "    \n",
    "    \n",
    "    \n",
    "    "
   ]
  },
  {
   "cell_type": "code",
   "execution_count": 6,
   "id": "8fb14ccc",
   "metadata": {},
   "outputs": [
    {
     "name": "stdout",
     "output_type": "stream",
     "text": [
      "2\n",
      "3\n",
      "[[3 5 8]\n",
      " [8 4 9]]\n",
      "6\n",
      "Pode virar um array 1D\n"
     ]
    }
   ],
   "source": [
    "# Exercicio 4\n",
    "l = randint(2,6)\n",
    "c = randint(2,6)\n",
    "print(l)\n",
    "print(c)\n",
    "\n",
    "m = np.random.randint(0,10,(l,c))\n",
    "\n",
    "print(m)\n",
    "\n",
    "produto = l * c\n",
    "print(produto)\n",
    "\n",
    "if produto % 2 == 0: # valor par é possivel virar um array\n",
    "    print(\"Pode virar um array 1D\")\n",
    "else:\n",
    "    print(\"Não pode virar um array 1D\")\n",
    "    "
   ]
  },
  {
   "cell_type": "code",
   "execution_count": 7,
   "id": "6aa4318d",
   "metadata": {},
   "outputs": [
    {
     "name": "stdout",
     "output_type": "stream",
     "text": [
      "[[10 37 16  1]\n",
      " [50 29 26 30]\n",
      " [49 30 50  9]\n",
      " [10  1 43 41]]\n"
     ]
    }
   ],
   "source": [
    "# Exercicio 5\n",
    "# semente aleatoria\n",
    "np.random.seed(10)\n",
    "matriz = np.random.randint(1,51, (4,4))\n",
    "print(matriz)"
   ]
  },
  {
   "cell_type": "code",
   "execution_count": 8,
   "id": "59808ada",
   "metadata": {},
   "outputs": [
    {
     "name": "stdout",
     "output_type": "stream",
     "text": [
      "Media de cada linha:  [16.   33.75 34.5  23.75]\n",
      "Media de cada coluna:  [29.75 24.25 33.75 20.25]\n"
     ]
    }
   ],
   "source": [
    "media_linha = matriz.mean(axis=1)\n",
    "media_coluna = matriz.mean(axis=0)\n",
    "print(\"Media de cada linha: \", media_linha)\n",
    "print(\"Media de cada coluna: \", media_coluna)\n"
   ]
  },
  {
   "cell_type": "code",
   "execution_count": 9,
   "id": "97e42d12",
   "metadata": {},
   "outputs": [
    {
     "name": "stdout",
     "output_type": "stream",
     "text": [
      "Maior media das linhas:  34.5\n",
      "Maior media das colunas:  33.75\n"
     ]
    }
   ],
   "source": [
    "print(\"Maior media das linhas: \", media_linha.max())\n",
    "print(\"Maior media das colunas: \", media_coluna.max())\n"
   ]
  },
  {
   "cell_type": "code",
   "execution_count": 10,
   "id": "814329b1",
   "metadata": {},
   "outputs": [
    {
     "name": "stdout",
     "output_type": "stream",
     "text": [
      "O numero 1 aparece 2\n",
      "O numero 9 aparece 1\n",
      "O numero 10 aparece 2\n",
      "O numero 16 aparece 1\n",
      "O numero 26 aparece 1\n",
      "O numero 29 aparece 1\n",
      "O numero 30 aparece 2\n",
      "O numero 37 aparece 1\n",
      "O numero 41 aparece 1\n",
      "O numero 43 aparece 1\n",
      "O numero 49 aparece 1\n",
      "O numero 50 aparece 2\n"
     ]
    }
   ],
   "source": [
    "numeros_unicos, contagem = np.unique(matriz, return_counts=True)\n",
    "\n",
    "for number, cont  in zip(numeros_unicos, contagem):\n",
    "    print(f\"O numero {number} aparece {cont}\")\n",
    "    "
   ]
  },
  {
   "cell_type": "code",
   "execution_count": 11,
   "id": "433def06",
   "metadata": {},
   "outputs": [
    {
     "name": "stdout",
     "output_type": "stream",
     "text": [
      "[ 1 10 30 50]\n"
     ]
    }
   ],
   "source": [
    "# Numeros que aparecem 2 vezes na matriz\n",
    "print(numeros_unicos[contagem == 2])"
   ]
  },
  {
   "cell_type": "code",
   "execution_count": 12,
   "id": "fbceb685",
   "metadata": {},
   "outputs": [],
   "source": [
    "# Atividade 3\n",
    "\n",
    "df = np.loadtxt('/home/nkk/Área de trabalho/projetos/C11/space.csv', delimiter=';', dtype=str, encoding='utf-8')\n"
   ]
  },
  {
   "cell_type": "code",
   "execution_count": 13,
   "id": "c54e5d4a",
   "metadata": {},
   "outputs": [
    {
     "data": {
      "text/plain": [
       "array(['Success', 'Success', 'Success', ..., 'Failure', 'Success',\n",
       "       'Success'], shape=(4324,), dtype='<U84')"
      ]
     },
     "execution_count": 13,
     "metadata": {},
     "output_type": "execute_result"
    }
   ],
   "source": [
    "# 1 porcentagem de missos bem sucedidas\n",
    "\n",
    "df[1:,7]\n",
    "\n"
   ]
  },
  {
   "cell_type": "code",
   "execution_count": null,
   "id": "d125e975",
   "metadata": {},
   "outputs": [],
   "source": []
  }
 ],
 "metadata": {
  "kernelspec": {
   "display_name": "Python 3",
   "language": "python",
   "name": "python3"
  },
  "language_info": {
   "codemirror_mode": {
    "name": "ipython",
    "version": 3
   },
   "file_extension": ".py",
   "mimetype": "text/x-python",
   "name": "python",
   "nbconvert_exporter": "python",
   "pygments_lexer": "ipython3",
   "version": "3.13.3"
  }
 },
 "nbformat": 4,
 "nbformat_minor": 5
}
