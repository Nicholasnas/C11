{
 "cells": [
  {
   "cell_type": "code",
   "execution_count": 62,
   "id": "17059a5e",
   "metadata": {},
   "outputs": [],
   "source": [
    "import numpy as np"
   ]
  },
  {
   "cell_type": "code",
   "execution_count": 63,
   "id": "4fbb471b",
   "metadata": {},
   "outputs": [
    {
     "name": "stdout",
     "output_type": "stream",
     "text": [
      "[1. 1. 1. 1. 1. 1. 1. 1.]\n",
      "[1 4 7 6 8 2 6 1]\n",
      "[2. 5. 8. 7. 9. 3. 7. 2.]\n"
     ]
    }
   ],
   "source": [
    "# Exericicio 1\n",
    "ones = np.ones(8)\n",
    "aleatorio = np.random.randint(0,10,8)\n",
    "\n",
    "soma = ones + aleatorio\n",
    "print(ones)\n",
    "print(aleatorio)\n",
    "print(soma)\n",
    "\n"
   ]
  },
  {
   "cell_type": "code",
   "execution_count": 64,
   "id": "a0c38ef7",
   "metadata": {},
   "outputs": [
    {
     "name": "stdout",
     "output_type": "stream",
     "text": [
      "[[2. 5.]\n",
      " [8. 7.]\n",
      " [9. 3.]\n",
      " [7. 2.]]\n"
     ]
    }
   ],
   "source": [
    "if sum(soma) >= 40:\n",
    "    soma = soma.reshape(4,2)\n",
    "else:\n",
    "    soma = soma.reshape(2,4)\n",
    "\n",
    "print(soma)"
   ]
  },
  {
   "cell_type": "code",
   "execution_count": 65,
   "id": "1366990a",
   "metadata": {},
   "outputs": [
    {
     "name": "stdout",
     "output_type": "stream",
     "text": [
      "[  0   2   4   6   8  10  12  14  16  18  20  22  24  26  28  30  32  34\n",
      "  36  38  40  42  44  46  48  50  50  52  54  56  58  60  62  64  66  68\n",
      "  70  72  74  76  78  80  82  84  86  88  90  92  94  96  98 100]\n"
     ]
    }
   ],
   "source": [
    "# Exercicio 2\n",
    "pares1 = np.arange(0,51,2)\n",
    "pares2 = np.arange(100,49,-2)\n",
    "\n",
    "array = np.concatenate((pares1, pares2))\n",
    "array.sort() # ordenando o array\n",
    "print(array)\n",
    "\n"
   ]
  },
  {
   "cell_type": "code",
   "execution_count": 69,
   "id": "4b34552f",
   "metadata": {},
   "outputs": [
    {
     "name": "stdout",
     "output_type": "stream",
     "text": [
      "bomba na posição:  0 0\n",
      "Selecione um posição da matriz: \n",
      "-----------Correto acertou uma posição!-----------\n",
      "Selecione um posição da matriz: \n",
      "-----------Correto acertou uma posição!-----------\n",
      "Selecione um posição da matriz: \n",
      "Game Over! :( Try Again! \n"
     ]
    }
   ],
   "source": [
    "# Exercicio 3 - Campo minado\n",
    "from random import randint\n",
    "import numpy as np\n",
    "\n",
    "\n",
    "matriz = np.zeros((2,2))\n",
    "\n",
    "number_linha = randint(0,1)\n",
    "number_coluna = randint(0,1)\n",
    "\n",
    "matriz[number_linha][number_coluna] = 1\n",
    "\n",
    "print('bomba na posição: ', number_linha, number_coluna)\n",
    "\n",
    "jogadas = 3\n",
    "acertos = 0\n",
    "\n",
    "while jogadas > 0:\n",
    "    print(\"Selecione um posição da matriz: \")\n",
    "    linha = int(input(\"Entre com a linha ( 0 ou 1): \"))\n",
    "    coluna = int(input(\"Entre com a coluna ( 0 ou 1): \"))\n",
    "    \n",
    "    if matriz[linha][coluna] == 0:\n",
    "        print(\"Correto acertou uma posição!\".center(50,'-'))\n",
    "        matriz[linha][coluna] = 2 # local descoberto\n",
    "        \n",
    "        acertos += 1\n",
    "        if acertos == 3:\n",
    "            print(\"Congratulations! You beat the game!\")\n",
    "            break\n",
    "        \n",
    "    elif matriz[linha][coluna] == 2:\n",
    "        print(\"posição já escolhida\")\n",
    "        continue\n",
    "    \n",
    "    else:\n",
    "        print(\"Game Over! :( Try Again! \")\n",
    "        break   \n",
    "        \n",
    "    jogadas -= 1\n",
    "            \n",
    "    \n",
    "    \n",
    "    \n",
    "    "
   ]
  },
  {
   "cell_type": "code",
   "execution_count": null,
   "id": "8fb14ccc",
   "metadata": {},
   "outputs": [],
   "source": []
  },
  {
   "cell_type": "code",
   "execution_count": null,
   "id": "6aa4318d",
   "metadata": {},
   "outputs": [],
   "source": []
  }
 ],
 "metadata": {
  "kernelspec": {
   "display_name": "c11-nkWhnUAw-py3.13",
   "language": "python",
   "name": "python3"
  },
  "language_info": {
   "codemirror_mode": {
    "name": "ipython",
    "version": 3
   },
   "file_extension": ".py",
   "mimetype": "text/x-python",
   "name": "python",
   "nbconvert_exporter": "python",
   "pygments_lexer": "ipython3",
   "version": "3.13.3"
  }
 },
 "nbformat": 4,
 "nbformat_minor": 5
}
