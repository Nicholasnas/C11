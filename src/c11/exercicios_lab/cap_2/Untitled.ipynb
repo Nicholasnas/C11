{
 "cells": [
  {
   "cell_type": "code",
   "execution_count": null,
   "id": "710a4cfa-031a-4974-8e53-fda9a30baf0e",
   "metadata": {},
   "outputs": [],
   "source": []
  }
 ],
 "metadata": {
  "kernelspec": {
   "display_name": "poetry-env",
   "language": "python",
   "name": "poetry-env"
  },
  "language_info": {
   "codemirror_mode": {
    "name": "ipython",
    "version": 3
   },
   "file_extension": ".py",
   "mimetype": "text/x-python",
   "name": "python",
   "nbconvert_exporter": "python",
   "pygments_lexer": "ipython3",
   "version": "3.13.1"
  }
 },
 "nbformat": 4,
 "nbformat_minor": 5
}
