{
 "cells": [
  {
   "cell_type": "code",
   "execution_count": 1,
   "id": "01d44cc5",
   "metadata": {},
   "outputs": [],
   "source": [
    "import pandas as pd\n"
   ]
  },
  {
   "cell_type": "code",
   "execution_count": 2,
   "id": "6fe2240c",
   "metadata": {},
   "outputs": [
    {
     "name": "stdout",
     "output_type": "stream",
     "text": [
      "Java      16.25\n",
      "C         16.04\n",
      "Python     9.85\n",
      "dtype: float64\n",
      "C         16.21\n",
      "Python    12.12\n",
      "Java      11.68\n",
      "dtype: float64\n"
     ]
    }
   ],
   "source": [
    "# Exercicio 1\n",
    "ano1 = pd.Series(index='Java C Python'.split(' '), data=[16.25, 16.04, 9.85])\n",
    "ano2 = pd.Series(index = 'C Python Java'.split(' '), data= [16.21, 12.12, 11.68])\n",
    "\n",
    "print(ano1)\n",
    "print(ano2)"
   ]
  },
  {
   "cell_type": "code",
   "execution_count": 3,
   "id": "8e5b87f0",
   "metadata": {},
   "outputs": [
    {
     "name": "stdout",
     "output_type": "stream",
     "text": [
      "Essas Liguagens representa no ano 1: 42.14%\n",
      "Essas Liguagens representa no ano 2: 40.01%\n"
     ]
    }
   ],
   "source": [
    "# Exercicio 2\n",
    "print(f'Essas Liguagens representa no ano 1: {ano1.sum()}%')\n",
    "print(f'Essas Liguagens representa no ano 2: {ano2.sum()}%')"
   ]
  },
  {
   "cell_type": "code",
   "execution_count": 4,
   "id": "76b81691",
   "metadata": {},
   "outputs": [
    {
     "name": "stdout",
     "output_type": "stream",
     "text": [
      "C         0.17\n",
      "Java     -4.57\n",
      "Python    2.27\n",
      "dtype: float64\n"
     ]
    }
   ],
   "source": [
    "# Exercicio 3 - Crescimento ou Decrescimento\n",
    "# print(ano2 - ano1)\n",
    "print(ano2.sub(ano1, fill_value=0))\n",
    "\n"
   ]
  },
  {
   "cell_type": "code",
   "execution_count": 5,
   "id": "73eb2a7e",
   "metadata": {},
   "outputs": [
    {
     "name": "stdout",
     "output_type": "stream",
     "text": [
      "C         0.17\n",
      "Python    2.27\n",
      "dtype: float64\n"
     ]
    }
   ],
   "source": [
    "# 4 Linguagens que tiveram crescimento\n",
    "\n",
    "crescimento = ano2.sub(ano1, fill_value=0)\n",
    "print(crescimento[crescimento > 0])"
   ]
  },
  {
   "cell_type": "code",
   "execution_count": 6,
   "id": "5847483a",
   "metadata": {},
   "outputs": [
    {
     "name": "stdout",
     "output_type": "stream",
     "text": [
      "C         16.55\n",
      "Java       2.54\n",
      "Python    16.66\n",
      "dtype: float64\n"
     ]
    }
   ],
   "source": [
    "# 5 Mater o crescimento nos proximos 2 anos\n",
    "previsao = ano2 + crescimento * 2\n",
    "print(previsao)"
   ]
  },
  {
   "cell_type": "code",
   "execution_count": 7,
   "id": "32a6065b",
   "metadata": {},
   "outputs": [
    {
     "name": "stdout",
     "output_type": "stream",
     "text": [
      "    W   X   Y   Z\n",
      "A   8  23  41  37\n",
      "B  48  16  32  46\n",
      "C   4  10   1   3\n",
      "D  40  33   1   7\n",
      "E  20  25  42   6\n",
      "Media dos valores da coluna X:  21.4\n"
     ]
    }
   ],
   "source": [
    "# 6  Media dos elementos da coluna X que sao menores que 30\n",
    "\n",
    "import numpy as np\n",
    "\n",
    "indices = 'A B C D E'.split(' ')\n",
    "colunas = 'W X Y Z'.split(' ')\n",
    "dados = np.random.randint(1, 50, [5,4])\n",
    "df = pd.DataFrame(index=indices, columns=colunas, data=dados)\n",
    "\n",
    "print(df)\n",
    "print('Media dos valores da coluna X: ', df['X'].mean())\n",
    "\n"
   ]
  },
  {
   "cell_type": "code",
   "execution_count": 8,
   "id": "79e0fc08",
   "metadata": {},
   "outputs": [
    {
     "name": "stdout",
     "output_type": "stream",
     "text": [
      "Media Linha D:  20.25\n",
      "Media Linha E:  23.25\n"
     ]
    }
   ],
   "source": [
    "# 7  media dos elementos da linha D Usando loc e soma dos elementos de 'E'  usando iloc\n",
    "\n",
    "media_linha_d = df.loc['D', :].mean()\n",
    "print(\"Media Linha D: \", media_linha_d)\n",
    "media_linha_e = df.iloc[4, :].mean()\n",
    "print(\"Media Linha E: \",media_linha_e)"
   ]
  },
  {
   "cell_type": "code",
   "execution_count": 9,
   "id": "b465fac1",
   "metadata": {},
   "outputs": [
    {
     "name": "stdout",
     "output_type": "stream",
     "text": [
      "    X   Y\n",
      "A  23  41\n",
      "C  10   1\n",
      "E  25  42\n",
      "Soma Linha A:  64\n",
      "Soma Linha C:  11\n",
      "Soma Linha E:  67\n"
     ]
    }
   ],
   "source": [
    "# 8 \n",
    "\n",
    "sub_df = df.loc['A C E'.split(' '), 'X Y'.split()]\n",
    "print(sub_df)\n",
    "print(\"Soma Linha A: \", sub_df.loc['A'].sum())\n",
    "print(\"Soma Linha C: \", sub_df.loc['C'].sum())\n",
    "print(\"Soma Linha E: \", sub_df.loc['E'].sum())\n"
   ]
  },
  {
   "cell_type": "markdown",
   "id": "183fd978",
   "metadata": {},
   "source": [
    "## Parte 3 Exericicios"
   ]
  },
  {
   "cell_type": "code",
   "execution_count": null,
   "id": "e50198ae",
   "metadata": {},
   "outputs": [
    {
     "name": "stdout",
     "output_type": "stream",
     "text": [
      "paises na oceania:\n",
      " 3            American Samoa \n",
      "11                Australia \n",
      "47             Cook Islands \n",
      "67                     Fiji \n",
      "71         French Polynesia \n",
      "83                     Guam \n",
      "108                Kiribati \n",
      "130        Marshall Islands \n",
      "136    Micronesia, Fed. St. \n",
      "144                   Nauru \n",
      "148           New Caledonia \n",
      "149             New Zealand \n",
      "153      N. Mariana Islands \n",
      "157                   Palau \n",
      "159        Papua New Guinea \n",
      "176                   Samoa \n",
      "187         Solomon Islands \n",
      "203                   Tonga \n",
      "209                  Tuvalu \n",
      "217                 Vanuatu \n",
      "221       Wallis and Futuna \n",
      "Name: Country, dtype: object\n",
      "Quantidade de paises na OCEANIA: 21\n",
      "21\n"
     ]
    }
   ],
   "source": [
    "import pandas as pd\n",
    "\n",
    "df = pd.read_csv('paises.csv', delimiter=';')\n",
    "\n",
    "# a) paises da Oceania\n",
    "oceania_df = df[df['Region'].str.contains('OCEANIA')]\n",
    "print(\"paises na oceania:\\n\", oceania_df['Country'])\n",
    "\n",
    "# b) quantidade de paises na Oceania\n",
    "\n",
    "print(f\"Quantidade de paises na OCEANIA: {len(oceania_df)}\")\n",
    "\n",
    "df['Region'] = df['Region'].str.strip()\n",
    "print(df.groupby('Region').count()['Country']['OCEANIA']) # USANDO GROUPBY\n"
   ]
  },
  {
   "cell_type": "code",
   "execution_count": null,
   "id": "91c369fa",
   "metadata": {},
   "outputs": [
    {
     "name": "stdout",
     "output_type": "stream",
     "text": [
      "Pais:  China \n",
      "População:  ASIA (EX. NEAR EAST)\n"
     ]
    }
   ],
   "source": [
    "# 2 Encontre o nome e a região do país que possui a maior população segundo este Dataset\n",
    "index_maior = df['Population'].argmax()\n",
    "print(\"Pais: \", df.loc[index_maior, 'Country'])\n",
    "print('População: ', df.loc[index_maior, \"Region\"])\n"
   ]
  },
  {
   "cell_type": "code",
   "execution_count": 63,
   "id": "8ab93fb3",
   "metadata": {},
   "outputs": [
    {
     "name": "stdout",
     "output_type": "stream",
     "text": [
      "Region\n",
      "ASIA (EX. NEAR EAST)    79.553571\n",
      "BALTICS                 99.733333\n",
      "C.W. OF IND. STATES     98.725000\n",
      "EASTERN EUROPE          72.816667\n",
      "LATIN AMER. & CARIB     88.640000\n",
      "NEAR EAST               69.581250\n",
      "NORTHERN AFRICA         56.033333\n",
      "NORTHERN AMERICA        78.200000\n",
      "OCEANIA                 71.914286\n",
      "SUB-SAHARAN AFRICA      61.284314\n",
      "WESTERN EUROPE          80.821429\n",
      "Name: Literacy (%), dtype: float64\n"
     ]
    }
   ],
   "source": [
    "# 3 - Agrupe os países por Regiões. Em seguida, mostre a média de alfabetização (Literacy (%)) de cada região do planeta;\n",
    "groupy_region = df.groupby('Region')\n",
    "print(groupy_region['Literacy (%)'].mean())"
   ]
  },
  {
   "cell_type": "code",
   "execution_count": 80,
   "id": "b94c12f1",
   "metadata": {},
   "outputs": [],
   "source": [
    "# 4. Busque o nome de todos os países do Dataset que não possuem costa marítima (Coastline (coast/area ratio) == 0) \n",
    "# e guarde-os em um novo arquivo chamado noCoast.csv;\n",
    "# df['Coastline (coast/area ratio)'].astype(float)\n",
    "\n",
    "paises_sem_costa = df[df['Coastline (coast/area ratio)'] == 0]\n",
    "new_df = paises_sem_costa['Country Region'.split(' ')]\n",
    "\n",
    "new_df.to_csv('noCoast.csv', index=False)"
   ]
  },
  {
   "cell_type": "code",
   "execution_count": 87,
   "id": "6582b985",
   "metadata": {},
   "outputs": [
    {
     "name": "stdout",
     "output_type": "stream",
     "text": [
      "           Country                Region  Population  Area (sq. mi.)  \\\n",
      "0     Afghanistan   ASIA (EX. NEAR EAST)    31056997          647500   \n",
      "1         Albania         EASTERN EUROPE     3581655           28748   \n",
      "2         Algeria        NORTHERN AFRICA    32930091         2381740   \n",
      "3  American Samoa                OCEANIA       57794             199   \n",
      "4         Andorra         WESTERN EUROPE       71201             468   \n",
      "\n",
      "   Pop. Density (per sq. mi.)  Coastline (coast/area ratio)  Net migration  \\\n",
      "0                        48.0                          0.00          23.06   \n",
      "1                       124.6                          1.26          -4.93   \n",
      "2                        13.8                          0.04          -0.39   \n",
      "3                       290.4                         58.29         -20.71   \n",
      "4                       152.1                          0.00           6.60   \n",
      "\n",
      "   Infant mortality (per 1000 births)  GDP ($ per capita)  Literacy (%)  ...  \\\n",
      "0                              163.07                 700          36.0  ...   \n",
      "1                               21.52                4500          86.5  ...   \n",
      "2                               31.00                6000          70.0  ...   \n",
      "3                                9.27                8000          97.0  ...   \n",
      "4                                4.05               19000         100.0  ...   \n",
      "\n",
      "   Crops (%)  Other (%)  Climate  Birthrate  Deathrate  Agriculture  Industry  \\\n",
      "0       0.22      87.65      1.0      46.60      20.34        0.380     0.240   \n",
      "1       4.42      74.49      3.0      15.11       5.22        0.232     0.188   \n",
      "2       0.25      96.53      1.0      17.14       4.61        0.101     0.600   \n",
      "3      15.00      75.00      2.0      22.46       3.27        0.000     0.000   \n",
      "4       0.00      97.78      3.0       8.71       6.25        0.000     0.000   \n",
      "\n",
      "   Service  Humanitarian Help  Humanitarina Help  \n",
      "0    0.380             Urgent             Urgent  \n",
      "1    0.579           Balanced           Balanced  \n",
      "2    0.298           Balanced           Balanced  \n",
      "3    0.000           Balanced           Balanced  \n",
      "4    0.000           Balanced           Balanced  \n",
      "\n",
      "[5 rows x 22 columns]\n"
     ]
    }
   ],
   "source": [
    "\"\"\"\n",
    "5. Faça uma função que receba a taxa de mortalidade de cada país (Deathrate) e\n",
    "retorne o texto ‘Balanced’ caso o valor seja < 9 e ‘Urgent’ caso contrário. Em\n",
    "seguida, crie um campo no Dataset chamado ‘Humanitarian Help’ que receba estes\n",
    "valores para cada país. No final, mostre o Dataset para verificar se a inserção da nova\n",
    "coluna foi feita com sucesso.\n",
    "\"\"\"\n",
    "\n",
    "def verifica(mortalidade):\n",
    "    if mortalidade < 9:\n",
    "        return 'Balanced'\n",
    "    else:\n",
    "        return 'Urgent'\n",
    "\n",
    "df['Deathrate'] = df['Deathrate'].astype(float)\n",
    "\n",
    "df['Humanitarian Help'] = df['Deathrate'].apply(verifica)\n",
    "print(df.head())\n"
   ]
  },
  {
   "cell_type": "code",
   "execution_count": null,
   "id": "0244b14d",
   "metadata": {},
   "outputs": [],
   "source": []
  }
 ],
 "metadata": {
  "kernelspec": {
   "display_name": "c11-nkWhnUAw-py3.13",
   "language": "python",
   "name": "python3"
  },
  "language_info": {
   "codemirror_mode": {
    "name": "ipython",
    "version": 3
   },
   "file_extension": ".py",
   "mimetype": "text/x-python",
   "name": "python",
   "nbconvert_exporter": "python",
   "pygments_lexer": "ipython3",
   "version": "3.13.3"
  }
 },
 "nbformat": 4,
 "nbformat_minor": 5
}
