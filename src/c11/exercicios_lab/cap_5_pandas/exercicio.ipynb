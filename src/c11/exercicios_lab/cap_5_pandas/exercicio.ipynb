{
 "cells": [
  {
   "cell_type": "code",
   "execution_count": 1,
   "id": "01d44cc5",
   "metadata": {},
   "outputs": [],
   "source": [
    "import pandas as pd\n"
   ]
  },
  {
   "cell_type": "code",
   "execution_count": 3,
   "id": "6fe2240c",
   "metadata": {},
   "outputs": [
    {
     "name": "stdout",
     "output_type": "stream",
     "text": [
      "Java      16.25\n",
      "C         16.04\n",
      "Python     9.85\n",
      "dtype: float64\n",
      "C         16.21\n",
      "Python    12.12\n",
      "Java      11.68\n",
      "dtype: float64\n"
     ]
    }
   ],
   "source": [
    "# Exercicio 1\n",
    "ano1 = pd.Series(index='Java C Python'.split(' '), data=[16.25, 16.04, 9.85])\n",
    "ano2 = pd.Series(index = 'C Python Java'.split(' '), data= [16.21, 12.12, 11.68])\n",
    "\n",
    "print(ano1)\n",
    "print(ano2)"
   ]
  },
  {
   "cell_type": "code",
   "execution_count": 7,
   "id": "8e5b87f0",
   "metadata": {},
   "outputs": [
    {
     "name": "stdout",
     "output_type": "stream",
     "text": [
      "Essas Liguagens representa no ano 1: 42.14%\n",
      "Essas Liguagens representa no ano 2: 40.01%\n"
     ]
    }
   ],
   "source": [
    "# Exercicio 2\n",
    "print(f'Essas Liguagens representa no ano 1: {ano1.sum()}%')\n",
    "print(f'Essas Liguagens representa no ano 2: {ano2.sum()}%')"
   ]
  },
  {
   "cell_type": "code",
   "execution_count": 15,
   "id": "76b81691",
   "metadata": {},
   "outputs": [
    {
     "name": "stdout",
     "output_type": "stream",
     "text": [
      "C         0.17\n",
      "Java     -4.57\n",
      "Python    2.27\n",
      "dtype: float64\n"
     ]
    }
   ],
   "source": [
    "# Exercicio 3 - Crescimento ou Decrescimento\n",
    "# print(ano2 - ano1)\n",
    "print(ano2.sub(ano1, fill_value=0))\n",
    "\n"
   ]
  },
  {
   "cell_type": "code",
   "execution_count": 18,
   "id": "73eb2a7e",
   "metadata": {},
   "outputs": [
    {
     "name": "stdout",
     "output_type": "stream",
     "text": [
      "C         0.17\n",
      "Python    2.27\n",
      "dtype: float64\n"
     ]
    }
   ],
   "source": [
    "# 4 Linguagens que tiveram crescimento\n",
    "\n",
    "crescimento = ano2.sub(ano1, fill_value=0)\n",
    "print(crescimento[crescimento > 0])"
   ]
  },
  {
   "cell_type": "code",
   "execution_count": null,
   "id": "5847483a",
   "metadata": {},
   "outputs": [
    {
     "name": "stdout",
     "output_type": "stream",
     "text": [
      "C         16.38\n",
      "Java       7.11\n",
      "Python    14.39\n",
      "dtype: float64\n"
     ]
    }
   ],
   "source": [
    "# 5 Mater o crescimento nos proximos 2 anos\n",
    "previsao = ano2 + crescimento * 2\n",
    "print(previsao)"
   ]
  },
  {
   "cell_type": "code",
   "execution_count": 27,
   "id": "32a6065b",
   "metadata": {},
   "outputs": [
    {
     "name": "stdout",
     "output_type": "stream",
     "text": [
      "    W   X   Y   Z\n",
      "A  13  42   7  42\n",
      "B  46  49  42   9\n",
      "C   2  39  16  35\n",
      "D  23  24  44   1\n",
      "E  12   4  38   4\n",
      "Media dos valores da coluna X:  31.6\n"
     ]
    }
   ],
   "source": [
    "# 6  Media dos elementos da coluna X que sao menores que 30\n",
    "\n",
    "import numpy as np\n",
    "\n",
    "indices = 'A B C D E'.split(' ')\n",
    "colunas = 'W X Y Z'.split(' ')\n",
    "dados = np.random.randint(1, 50, [5,4])\n",
    "df = pd.DataFrame(index=indices, columns=colunas, data=dados)\n",
    "\n",
    "print(df)\n",
    "print('Media dos valores da coluna X: ', df['X'].mean())\n",
    "\n"
   ]
  },
  {
   "cell_type": "code",
   "execution_count": 34,
   "id": "79e0fc08",
   "metadata": {},
   "outputs": [
    {
     "name": "stdout",
     "output_type": "stream",
     "text": [
      "Media Linha D:  23.0\n",
      "Media Linha E:  14.5\n"
     ]
    }
   ],
   "source": [
    "# 7  media dos elementos da linha D Usando loc e soma dos elementos de 'E'  usando iloc\n",
    "\n",
    "media_linha_d = df.loc['D', :].mean()\n",
    "print(\"Media Linha D: \", media_linha_d)\n",
    "media_linha_e = df.iloc[4, :].mean()\n",
    "print(\"Media Linha E: \",media_linha_e)"
   ]
  },
  {
   "cell_type": "code",
   "execution_count": 39,
   "id": "b465fac1",
   "metadata": {},
   "outputs": [
    {
     "name": "stdout",
     "output_type": "stream",
     "text": [
      "    X   Y\n",
      "A  42   7\n",
      "C  39  16\n",
      "E   4  38\n",
      "Soma Linha A:  49\n",
      "Soma Linha C:  55\n",
      "Soma Linha E:  42\n"
     ]
    }
   ],
   "source": [
    "# 8 \n",
    "\n",
    "sub_df = df.loc['A C E'.split(' '), 'X Y'.split()]\n",
    "print(sub_df)\n",
    "print(\"Soma Linha A: \", sub_df.loc['A'].sum())\n",
    "print(\"Soma Linha C: \", sub_df.loc['C'].sum())\n",
    "print(\"Soma Linha E: \", sub_df.loc['E'].sum())\n"
   ]
  },
  {
   "cell_type": "code",
   "execution_count": null,
   "id": "e50198ae",
   "metadata": {},
   "outputs": [],
   "source": [
    "    "
   ]
  }
 ],
 "metadata": {
  "kernelspec": {
   "display_name": "c11-nkWhnUAw-py3.13",
   "language": "python",
   "name": "python3"
  },
  "language_info": {
   "codemirror_mode": {
    "name": "ipython",
    "version": 3
   },
   "file_extension": ".py",
   "mimetype": "text/x-python",
   "name": "python",
   "nbconvert_exporter": "python",
   "pygments_lexer": "ipython3",
   "version": "3.13.3"
  }
 },
 "nbformat": 4,
 "nbformat_minor": 5
}
