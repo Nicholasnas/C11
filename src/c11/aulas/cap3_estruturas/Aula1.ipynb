{
 "cells": [
  {
   "cell_type": "markdown",
   "id": "9c41ae38",
   "metadata": {},
   "source": [
    "Exemplos tupla"
   ]
  },
  {
   "cell_type": "code",
   "execution_count": 1,
   "id": "36a67c82",
   "metadata": {},
   "outputs": [
    {
     "data": {
      "text/plain": [
       "('goku', 'vegeta', 'trunks', 'gohan')"
      ]
     },
     "execution_count": 1,
     "metadata": {},
     "output_type": "execute_result"
    }
   ],
   "source": [
    "nomes = ('goku', 'vegeta', 'trunks', 'gohan')\n",
    "nomes"
   ]
  },
  {
   "cell_type": "code",
   "execution_count": null,
   "id": "ccc3f6c4",
   "metadata": {},
   "outputs": [
    {
     "data": {
      "text/plain": [
       "('vegeta', 'trunks')"
      ]
     },
     "execution_count": 21,
     "metadata": {},
     "output_type": "execute_result"
    }
   ],
   "source": [
    "nomes[1:3]"
   ]
  },
  {
   "cell_type": "code",
   "execution_count": null,
   "id": "403e6afb",
   "metadata": {},
   "outputs": [
    {
     "name": "stdout",
     "output_type": "stream",
     "text": [
      "['gohan', 'goku', 'trunks', 'vegeta']\n"
     ]
    }
   ],
   "source": [
    "# Retorna uma lista ordenada por ordem alfabética\n",
    "print(sorted(nomes))"
   ]
  },
  {
   "cell_type": "code",
   "execution_count": 17,
   "id": "9fe55f4b",
   "metadata": {},
   "outputs": [
    {
     "name": "stdout",
     "output_type": "stream",
     "text": [
      "(1, 2, 3, 4, 5, 6, 7, 8, -4)\n",
      "<class 'tuple'>\n"
     ]
    }
   ],
   "source": [
    "# Juntar as duas tuplas - retorna uma tupla\n",
    "x = (1,2,3,4)\n",
    "y = (5,6,7,8,-4)\n",
    "z = x + y\n",
    "print(z)\n",
    "print(type(z))"
   ]
  },
  {
   "cell_type": "code",
   "execution_count": 18,
   "id": "54eae42a",
   "metadata": {},
   "outputs": [
    {
     "name": "stdout",
     "output_type": "stream",
     "text": [
      "1\n",
      "8\n",
      "-4\n",
      "9\n"
     ]
    }
   ],
   "source": [
    "print(z.count(1)) # Quantidade de ocorrencias do valor 1\n",
    "print(max(z)) # Valor maximo na collection \n",
    "print(min(z)) # Menor valor na collection\n",
    "print(len(z))"
   ]
  },
  {
   "cell_type": "markdown",
   "id": "16a691ca",
   "metadata": {},
   "source": [
    "## Listas - coleção mutável\n"
   ]
  },
  {
   "cell_type": "code",
   "execution_count": null,
   "id": "0d7d777c",
   "metadata": {},
   "outputs": [
    {
     "name": "stdout",
     "output_type": "stream",
     "text": [
      "['goku', 'vegeta', 'trunks', 'gohan']\n",
      "['goku', 'vegeta', 'trunks', 'gohan', 'bulma']\n",
      "['Kuririn', 'goku', 'vegeta', 'trunks', 'gohan', 'bulma']\n",
      "['Kuririn', 'piccolo', 'vegeta', 'trunks', 'gohan', 'bulma']\n",
      "['piccolo', 'vegeta', 'trunks', 'bulma']\n"
     ]
    }
   ],
   "source": [
    "lista = ['goku', 'vegeta', 'trunks', 'gohan']\n",
    "print(lista)\n",
    "lista.append('bulma')\n",
    "print(lista)\n",
    "# Adicionar em um indice especifico\n",
    "lista.insert(0, \"Kuririn\")\n",
    "print(lista)\n",
    "# Alterar\n",
    "lista[1] = \"piccolo\"\n",
    "print(lista)\n",
    "# Excluindo\n",
    "\n",
    "del lista[0] # remoção pelo indice\n",
    "lista.remove(\"gohan\") # remoção por valor\n",
    "print(lista)\n"
   ]
  },
  {
   "cell_type": "markdown",
   "id": "1381809d",
   "metadata": {},
   "source": [
    "## Conjuntos - sets"
   ]
  },
  {
   "cell_type": "code",
   "execution_count": null,
   "id": "78e67b7f",
   "metadata": {},
   "outputs": [
    {
     "name": "stdout",
     "output_type": "stream",
     "text": [
      "{'trunks', 'goku', 'vegeta', 'gohan'}\n",
      "{'goku', 'Bulma', 'gohan', 'vegeta', 'trunks'}\n",
      "{'goku', 'Bulma', 'gohan', 'vegeta', 'trunks'}\n",
      "{'goku', 'Bulma', 'gohan', 'vegeta'}\n"
     ]
    },
    {
     "data": {
      "text/plain": [
       "['Bulma', 'gohan', 'goku', 'vegeta']"
      ]
     },
     "execution_count": 39,
     "metadata": {},
     "output_type": "execute_result"
    }
   ],
   "source": [
    "personagens = {'goku', 'vegeta', 'trunks', 'gohan'}\n",
    "# Não guarda a ordem dos elementos e não permite duplicações\n",
    "print(personagens)\n",
    "personagens.add(\"Bulma\")\n",
    "print(personagens)\n",
    "personagens.add(\"goku\")\n",
    "print(personagens) # Não adicionou\n",
    "\n",
    "# Remover elementos\n",
    "\n",
    "personagens.remove(\"trunks\")\n",
    "print(personagens)\n",
    "\n",
    "sorted(personagens)\n",
    "\n",
    "\n",
    "\n"
   ]
  },
  {
   "cell_type": "markdown",
   "id": "a5820da4",
   "metadata": {},
   "source": [
    "## Dicionarios\n"
   ]
  },
  {
   "cell_type": "code",
   "execution_count": 51,
   "id": "400f5737",
   "metadata": {},
   "outputs": [
    {
     "name": "stdout",
     "output_type": "stream",
     "text": [
      "{'nome': 'goku', 'idade': 43, 'sexo': 'masculino'}\n",
      "{'nome': 'goku', 'idade': 43, 'sexo': 'masculino', 'raça': 'sayajin'}\n",
      "{'nome': 'goku', 'idade': 43, 'sexo': 'masculino', 'raça': 'sayajin', 'familia': ['gohan', 'goten', 'chichi', 'pan']}\n",
      "chichi\n",
      "{'nome': 'goku', 'idade': 45, 'sexo': 'masculino', 'raça': 'sayajin', 'familia': ['gohan', 'goten', 'chichi', 'pan']}\n",
      "{'nome': 'goku', 'idade': 45, 'raça': 'sayajin', 'familia': ['gohan', 'goten', 'chichi', 'pan']}\n"
     ]
    }
   ],
   "source": [
    "# chave - valor\n",
    "pessoal = {'nome':'goku', 'idade':43, 'sexo': 'masculino'}\n",
    "print(pessoal)\n",
    "\n",
    "# ADD\n",
    "pessoal['raça'] = \"sayajin\"\n",
    "print(pessoal)\n",
    "\n",
    "pessoal['familia'] = ['gohan', 'goten', 'chichi', 'pan']\n",
    "print(pessoal)\n",
    "print(pessoal['familia'][2])\n",
    "\n",
    "\n",
    "# UPDATE\n",
    "pessoal['idade'] = 45\n",
    "print(pessoal)\n",
    "del pessoal['sexo']\n",
    "print(pessoal)"
   ]
  },
  {
   "cell_type": "code",
   "execution_count": null,
   "id": "5a9a949f",
   "metadata": {},
   "outputs": [],
   "source": []
  }
 ],
 "metadata": {
  "kernelspec": {
   "display_name": "Python 3",
   "language": "python",
   "name": "python3"
  },
  "language_info": {
   "codemirror_mode": {
    "name": "ipython",
    "version": 3
   },
   "file_extension": ".py",
   "mimetype": "text/x-python",
   "name": "python",
   "nbconvert_exporter": "python",
   "pygments_lexer": "ipython3",
   "version": "3.13.3"
  }
 },
 "nbformat": 4,
 "nbformat_minor": 5
}
