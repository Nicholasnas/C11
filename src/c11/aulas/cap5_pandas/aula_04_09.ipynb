{
 "cells": [
  {
   "cell_type": "markdown",
   "id": "c2857444",
   "metadata": {},
   "source": [
    "## Pandas\n",
    "- Series (1 Dimensão)\n",
    "- DataFrame (2 Dimensões ou mais)\n",
    "\n",
    "    - Remover dados nulos\n",
    "    - Agrupar dados\n",
    "    - Fatiamento"
   ]
  },
  {
   "cell_type": "code",
   "execution_count": 2,
   "id": "b66233b2",
   "metadata": {},
   "outputs": [
    {
     "name": "stdout",
     "output_type": "stream",
     "text": [
      "a    1\n",
      "b    2\n",
      "c    3\n",
      "d    4\n",
      "dtype: int64\n",
      "--------------------------------------------------\n",
      "a    7\n",
      "b    8\n",
      "c    9\n",
      "dtype: int64\n",
      "<class 'pandas.core.series.Series'>\n"
     ]
    }
   ],
   "source": [
    "import pandas as pd\n",
    "\n",
    "# Numpy indices numericos\n",
    "# 1 - Pandas Series\n",
    "# Series \n",
    "s = pd.Series([1,2,3,4], index='a b c d'.split(' '))\n",
    "print(s)\n",
    "\n",
    "indeces = ['a', 'b', 'c']\n",
    "valores = [7, 8, 9]\n",
    "print('-'*50)\n",
    "serie = pd.Series(index=indeces, data=valores)\n",
    "print(serie)\n",
    "print(type(serie))"
   ]
  },
  {
   "cell_type": "code",
   "execution_count": 3,
   "id": "6227ecd6",
   "metadata": {},
   "outputs": [
    {
     "name": "stdout",
     "output_type": "stream",
     "text": [
      "Serie 1:\n",
      " a    10\n",
      "b    20\n",
      "c    30\n",
      "dtype: int64\n",
      "10\n",
      "Serie 2:\n",
      " a    10\n",
      "b    20\n",
      "d    30\n",
      "dtype: int64\n",
      "Teste\n",
      "a    20.0\n",
      "b    40.0\n",
      "c     NaN\n",
      "d     NaN\n",
      "dtype: float64\n",
      "Soma:\n",
      " a    20.0\n",
      "b    40.0\n",
      "c    30.0\n",
      "d    30.0\n",
      "dtype: float64\n",
      "Subtração:\n",
      " a     0.0\n",
      "b     0.0\n",
      "c    30.0\n",
      "d   -30.0\n",
      "dtype: float64\n"
     ]
    }
   ],
   "source": [
    "dic = {'a':10, 'b':20, 'c':30} # Usando dicionario\n",
    "\n",
    "d1 = pd.Series(dic)\n",
    "print(\"Serie 1:\\n\", d1)\n",
    "print(d1['a'])\n",
    "# Operacao label a label\n",
    "dic2 = {'a':10, 'b':20, 'd':30}\n",
    "d2 = pd.Series(dic2)\n",
    "print(\"Serie 2:\\n\", d2)\n",
    "# print(\"Soma:\\n\", d1 + d2)\n",
    "# print(\"Subtração:\\n\", d1 - d2)\n",
    "# print(\"Multiplicação: \\n\", d1*d2)\n",
    "s = d1 + d2\n",
    "print(\"Teste\")\n",
    "print(s)\n",
    "\n",
    "# Usar as funcoes pre prontas do pandas\n",
    "# fill_value = Valor padra\n",
    "print(\"Soma:\\n\",d1.add(d2, fill_value=0)) \n",
    "print(\"Subtração:\\n\",d1.sub(d2, fill_value=0)) \n",
    "\n"
   ]
  },
  {
   "cell_type": "code",
   "execution_count": 4,
   "id": "dddc1657",
   "metadata": {},
   "outputs": [
    {
     "name": "stdout",
     "output_type": "stream",
     "text": [
      "a    10\n",
      "b    20\n",
      "dtype: int64\n"
     ]
    }
   ],
   "source": [
    "# Condicionais no pandas\n",
    "print(d1[d1 <= 20])"
   ]
  },
  {
   "cell_type": "code",
   "execution_count": 5,
   "id": "afce3b14",
   "metadata": {},
   "outputs": [
    {
     "name": "stdout",
     "output_type": "stream",
     "text": [
      "    W   X   Y   Z\n",
      "A  28  39   9  42\n",
      "B   6  23  33  15\n",
      "C  14  46  19  20\n",
      "D  15  38  41  41\n",
      "E  15  47  35  46\n",
      "\n",
      "    W   X   Y   Z\n",
      "A  28  39   9  42\n",
      "B   6  23  33  15\n",
      "\n",
      "    W   X   Y   Z\n",
      "A  28  39   9  42\n",
      "B   6  23  33  15\n",
      "    W   Z\n",
      "A  28  42\n",
      "B   6  15\n",
      "\n",
      "    W   Z\n",
      "A  28  42\n",
      "B   6  15\n",
      "C  14  20\n",
      "D  15  41\n",
      "E  15  46\n"
     ]
    }
   ],
   "source": [
    "# DataFrame\n",
    "import numpy as np\n",
    "\n",
    "indices = 'A B C D E'.split(' ')\n",
    "colunas = 'W X Y Z'.split(' ')\n",
    "dados = np.random.randint(1, 50, [5,4])\n",
    "df = pd.DataFrame(index=indices, columns=colunas, data=dados)\n",
    "print(df, end='\\n\\n')\n",
    "\n",
    "# Fazendo slicing com ILOC (padrao numpy - indices numericos)\n",
    "# Segue o padrao do numpy ->  linhas - colunas\n",
    "print(df.iloc[0:2, :], end='\\n\\n') # iloc vem de index\n",
    "\n",
    "# Usando loc\n",
    "print(df.loc[['A', 'B'], 'W X Y Z'.split(' ')])\n",
    "\n",
    "# Pegar a coluna W e Y\n",
    "print(df.loc['A B'.split(' '), \"W Z\".split(' ')], end='\\n\\n')\n",
    "print(df['W Z'.split(' ')])\n",
    "\n"
   ]
  },
  {
   "cell_type": "code",
   "execution_count": 6,
   "id": "ace009ad",
   "metadata": {},
   "outputs": [
    {
     "name": "stdout",
     "output_type": "stream",
     "text": [
      "Index(['Country', 'Region', 'Population', 'Area (sq. mi.)',\n",
      "       'Pop. Density (per sq. mi.)', 'Coastline (coast/area ratio)',\n",
      "       'Net migration', 'Infant mortality (per 1000 births)',\n",
      "       'GDP ($ per capita)', 'Literacy (%)', 'Phones (per 1000)', 'Arable (%)',\n",
      "       'Crops (%)', 'Other (%)', 'Climate', 'Birthrate', 'Deathrate',\n",
      "       'Agriculture', 'Industry', 'Service'],\n",
      "      dtype='object')\n",
      "        Country                               Region  Population  \\\n",
      "0  Afghanistan         ASIA (EX. NEAR EAST)             31056997   \n",
      "1      Albania   EASTERN EUROPE                          3581655   \n",
      "2      Algeria   NORTHERN AFRICA                        32930091   \n",
      "\n",
      "   Area (sq. mi.)  Pop. Density (per sq. mi.)  Coastline (coast/area ratio)  \\\n",
      "0          647500                        48.0                          0.00   \n",
      "1           28748                       124.6                          1.26   \n",
      "2         2381740                        13.8                          0.04   \n",
      "\n",
      "   Net migration  Infant mortality (per 1000 births)  GDP ($ per capita)  \\\n",
      "0          23.06                              163.07                 700   \n",
      "1          -4.93                               21.52                4500   \n",
      "2          -0.39                               31.00                6000   \n",
      "\n",
      "   Literacy (%)  Phones (per 1000)  Arable (%)  Crops (%)  Other (%)  Climate  \\\n",
      "0          36.0                3.2       12.13       0.22      87.65      1.0   \n",
      "1          86.5               71.2       21.09       4.42      74.49      3.0   \n",
      "2          70.0               78.1        3.22       0.25      96.53      1.0   \n",
      "\n",
      "   Birthrate  Deathrate  Agriculture  Industry  Service  \n",
      "0      46.60      20.34        0.380     0.240    0.380  \n",
      "1      15.11       5.22        0.232     0.188    0.579  \n",
      "2      17.14       4.61        0.101     0.600    0.298  \n",
      "       Country                               Region  Population  \\\n",
      "225    Zambia   SUB-SAHARAN AFRICA                     11502010   \n",
      "226  Zimbabwe   SUB-SAHARAN AFRICA                     12236805   \n",
      "\n",
      "     Area (sq. mi.)  Pop. Density (per sq. mi.)  Coastline (coast/area ratio)  \\\n",
      "225          752614                        15.3                           0.0   \n",
      "226          390580                        31.3                           0.0   \n",
      "\n",
      "     Net migration  Infant mortality (per 1000 births)  GDP ($ per capita)  \\\n",
      "225            0.0                               88.29                 800   \n",
      "226            0.0                               67.69                1900   \n",
      "\n",
      "     Literacy (%)  Phones (per 1000)  Arable (%)  Crops (%)  Other (%)  \\\n",
      "225          80.6                8.2        7.08       0.03      92.90   \n",
      "226          90.7               26.8        8.32       0.34      91.34   \n",
      "\n",
      "     Climate  Birthrate  Deathrate  Agriculture  Industry  Service  \n",
      "225      2.0      41.00      19.93        0.220     0.290    0.489  \n",
      "226      2.0      28.01      21.84        0.179     0.243    0.579  \n"
     ]
    }
   ],
   "source": [
    "import numpy as np\n",
    "\n",
    "df = pd.read_csv('paises.csv', delimiter=';')\n",
    "print(df.columns)\n",
    "print(df.head(3)) # primeiras linhas\n",
    "print(df.tail(2)) # ultimas linhas"
   ]
  },
  {
   "cell_type": "code",
   "execution_count": 7,
   "id": "d115a270",
   "metadata": {},
   "outputs": [
    {
     "name": "stdout",
     "output_type": "stream",
     "text": [
      "6524044551\n",
      "    Country                   Region  Population  Area (sq. mi.)  \\\n",
      "27  Brazil   LATIN AMER. & CARIB       188078227         8511965   \n",
      "\n",
      "    Pop. Density (per sq. mi.)  Coastline (coast/area ratio)  Net migration  \\\n",
      "27                        22.1                          0.09          -0.03   \n",
      "\n",
      "    Infant mortality (per 1000 births)  GDP ($ per capita)  Literacy (%)  ...  \\\n",
      "27                               29.61                7600          86.4  ...   \n",
      "\n",
      "    Arable (%)  Crops (%)  Other (%)  Climate  Birthrate  Deathrate  \\\n",
      "27        6.96        0.9      92.15      2.0      16.56       6.17   \n",
      "\n",
      "    Agriculture  Industry  Service  Population Relative Absoluto  \n",
      "27        0.084       0.4    0.516                      0.028828  \n",
      "\n",
      "[1 rows x 21 columns]\n"
     ]
    }
   ],
   "source": [
    "# Criar uma nova coluaa que mostre a porcentagem da populacao de cada pais em relacao a popoulacao global\n",
    "\n",
    "total_populacao = df['Population'].sum()\n",
    "print(total_populacao)\n",
    "df['Population Relative Absoluto'] = df['Population'] / total_populacao\n",
    "# df['Population Relative Absoluto']\n",
    "print(df[df['Country'] == 'Brazil '])\n",
    "\n",
    "# Criando uma nova versao do dataset \n",
    "\n",
    "df.to_csv('paises2.csv', sep=';')"
   ]
  },
  {
   "cell_type": "code",
   "execution_count": 8,
   "id": "c170d05d",
   "metadata": {},
   "outputs": [
    {
     "name": "stdout",
     "output_type": "stream",
     "text": [
      "Region\n",
      "ASIA (EX. NEAR EAST)                   28\n",
      "BALTICS                                 3\n",
      "C.W. OF IND. STATES                    12\n",
      "EASTERN EUROPE                         12\n",
      "LATIN AMER. & CARIB                    45\n",
      "NEAR EAST                              16\n",
      "NORTHERN AFRICA                         6\n",
      "NORTHERN AMERICA                        5\n",
      "OCEANIA                                21\n",
      "SUB-SAHARAN AFRICA                     51\n",
      "WESTERN EUROPE                         28\n",
      "Name: Country, dtype: int64\n",
      "\n",
      "Region\n",
      "ASIA (EX. NEAR EAST)                   Afghanistan Bangladesh Bhutan Brunei Burma Cam...\n",
      "BALTICS                                                        Estonia Latvia Lithuania \n",
      "C.W. OF IND. STATES                    Armenia Azerbaijan Belarus Georgia Kazakhstan ...\n",
      "EASTERN EUROPE                         Albania Bosnia & Herzegovina Bulgaria Croatia ...\n",
      "LATIN AMER. & CARIB                    Anguilla Antigua & Barbuda Argentina Aruba Bah...\n",
      "NEAR EAST                              Bahrain Cyprus Gaza Strip Iraq Israel Jordan K...\n",
      "NORTHERN AFRICA                        Algeria Egypt Libya Morocco Tunisia Western Sa...\n",
      "NORTHERN AMERICA                       Bermuda Canada Greenland St Pierre & Miquelon ...\n",
      "OCEANIA                                American Samoa Australia Cook Islands Fiji Fre...\n",
      "SUB-SAHARAN AFRICA                     Angola Benin Botswana Burkina Faso Burundi Cam...\n",
      "WESTERN EUROPE                         Andorra Austria Belgium Denmark Faroe Islands ...\n",
      "Name: Country, dtype: object\n",
      "Region\n",
      "ASIA (EX. NEAR EAST)                   3687982236\n",
      "BALTICS                                   7184974\n",
      "C.W. OF IND. STATES                     280081548\n",
      "EASTERN EUROPE                          119914717\n",
      "LATIN AMER. & CARIB                     561824599\n",
      "NEAR EAST                               195068377\n",
      "NORTHERN AFRICA                         161407133\n",
      "NORTHERN AMERICA                        331672307\n",
      "OCEANIA                                  33131662\n",
      "SUB-SAHARAN AFRICA                      749437000\n",
      "WESTERN EUROPE                          396339998\n",
      "Name: Population, dtype: int64\n"
     ]
    }
   ],
   "source": [
    "# Agrupando os dados do nosso dataset por regiao\n",
    "group_region = df.groupby('Region')\n",
    "print(group_region.count()['Country'], end='\\n\\n')\n",
    "print(group_region.sum()['Country'])\n",
    "print(group_region.sum()['Population'])\n"
   ]
  },
  {
   "cell_type": "code",
   "execution_count": 9,
   "id": "c5d0a5d0",
   "metadata": {},
   "outputs": [
    {
     "name": "stdout",
     "output_type": "stream",
     "text": [
      "     Taxa de Mortalidade  Taxa de Mortalidade com desconto\n",
      "0                  20.34                            18.306\n",
      "1                   5.22                             4.698\n",
      "2                   4.61                             4.149\n",
      "3                   3.27                             2.943\n",
      "4                   6.25                             5.625\n",
      "..                   ...                               ...\n",
      "222                 3.92                             3.528\n",
      "223                 0.00                             0.000\n",
      "224                 8.30                             7.470\n",
      "225                19.93                            17.937\n",
      "226                21.84                            19.656\n",
      "\n",
      "[227 rows x 2 columns]\n"
     ]
    }
   ],
   "source": [
    "# Criando funcoes customizadas no pandas\n",
    "\n",
    "def ten_percent(x): # desconto de 10 porcento em algo\n",
    "    return x * 0.9\n",
    "\n",
    "# pegando a taxa de mortalidade do dataset\n",
    "taxaMort = df['Deathrate']\n",
    "\n",
    "taxaMort2 = taxaMort.apply(ten_percent)  # aplicando a funcao em cada valor da linha deathrate\n",
    "\n",
    "df2 = pd.concat([taxaMort, taxaMort2], axis = 1)\n",
    "df2.columns = ['Taxa de Mortalidade', 'Taxa de Mortalidade com desconto']\n",
    "print(df2)"
   ]
  },
  {
   "cell_type": "code",
   "execution_count": null,
   "id": "1f72ca9f",
   "metadata": {},
   "outputs": [],
   "source": []
  }
 ],
 "metadata": {
  "kernelspec": {
   "display_name": "c11-nkWhnUAw-py3.13",
   "language": "python",
   "name": "python3"
  },
  "language_info": {
   "codemirror_mode": {
    "name": "ipython",
    "version": 3
   },
   "file_extension": ".py",
   "mimetype": "text/x-python",
   "name": "python",
   "nbconvert_exporter": "python",
   "pygments_lexer": "ipython3",
   "version": "3.13.3"
  }
 },
 "nbformat": 4,
 "nbformat_minor": 5
}
