{
 "cells": [
  {
   "cell_type": "markdown",
   "id": "c2857444",
   "metadata": {},
   "source": [
    "## Pandas\n",
    "- Series (1 Dimensão)\n",
    "- DataFrame (2 Dimensões ou mais)\n",
    "\n",
    "    - Remover dados nulos\n",
    "    - Agrupar dados\n",
    "    - Fatiamento\n",
    "    - "
   ]
  },
  {
   "cell_type": "code",
   "execution_count": 12,
   "id": "b66233b2",
   "metadata": {},
   "outputs": [
    {
     "name": "stdout",
     "output_type": "stream",
     "text": [
      "a    1\n",
      "b    2\n",
      "c    3\n",
      "d    4\n",
      "dtype: int64\n",
      "--------------------------------------------------\n",
      "a    7\n",
      "b    8\n",
      "c    9\n",
      "dtype: int64\n",
      "<class 'pandas.core.series.Series'>\n"
     ]
    }
   ],
   "source": [
    "import pandas as pd\n",
    "\n",
    "# Numpy indices numericos\n",
    "# 1 - Pandas Series\n",
    "# Series \n",
    "s = pd.Series([1,2,3,4], index='a b c d'.split(' '))\n",
    "print(s)\n",
    "\n",
    "indeces = ['a', 'b', 'c']\n",
    "valores = [7, 8, 9]\n",
    "print('-'*50)\n",
    "serie = pd.Series(index=indeces, data=valores)\n",
    "print(serie)\n",
    "print(type(serie))"
   ]
  },
  {
   "cell_type": "code",
   "execution_count": null,
   "id": "6227ecd6",
   "metadata": {},
   "outputs": [
    {
     "name": "stdout",
     "output_type": "stream",
     "text": [
      "Serie 1:\n",
      " a    10\n",
      "b    20\n",
      "c    30\n",
      "dtype: int64\n",
      "10\n",
      "Serie 2:\n",
      " a    10\n",
      "b    20\n",
      "d    30\n",
      "dtype: int64\n",
      "Teste\n",
      "a    20.0\n",
      "b    40.0\n",
      "c     NaN\n",
      "d     NaN\n",
      "dtype: float64\n",
      "a    True\n",
      "b    True\n",
      "c    True\n",
      "d    True\n",
      "dtype: bool\n",
      "Soma:\n",
      " a    20.0\n",
      "b    40.0\n",
      "c    30.0\n",
      "d    30.0\n",
      "dtype: float64\n",
      "Subtração:\n",
      " a     0.0\n",
      "b     0.0\n",
      "c    30.0\n",
      "d   -30.0\n",
      "dtype: float64\n"
     ]
    }
   ],
   "source": [
    "dic = {'a':10, 'b':20, 'c':30} # Usando dicionario\n",
    "\n",
    "d1 = pd.Series(dic)\n",
    "print(\"Serie 1:\\n\", d1)\n",
    "print(d1['a'])\n",
    "# Operacao label a label\n",
    "dic2 = {'a':10, 'b':20, 'd':30}\n",
    "d2 = pd.Series(dic2)\n",
    "print(\"Serie 2:\\n\", d2)\n",
    "# print(\"Soma:\\n\", d1 + d2)\n",
    "# print(\"Subtração:\\n\", d1 - d2)\n",
    "# print(\"Multiplicação: \\n\", d1*d2)\n",
    "s = d1 + d2\n",
    "print(\"Teste\")\n",
    "print(s)\n",
    "\n",
    "# Usar as funcoes pre prontas do pandas\n",
    "# fill_value = Valor padra\n",
    "print(\"Soma:\\n\",d1.add(d2, fill_value=0)) \n",
    "print(\"Subtração:\\n\",d1.sub(d2, fill_value=0)) \n",
    "\n"
   ]
  },
  {
   "cell_type": "code",
   "execution_count": null,
   "id": "dddc1657",
   "metadata": {},
   "outputs": [
    {
     "name": "stdout",
     "output_type": "stream",
     "text": [
      "a    10\n",
      "b    20\n",
      "c    30\n",
      "dtype: int64\n",
      "a    10\n",
      "b    20\n",
      "dtype: int64\n"
     ]
    }
   ],
   "source": [
    "# Condicionais no pandas\n",
    "print(d1[d1 <= 20])"
   ]
  },
  {
   "cell_type": "code",
   "execution_count": 72,
   "id": "afce3b14",
   "metadata": {},
   "outputs": [
    {
     "name": "stdout",
     "output_type": "stream",
     "text": [
      "    W   X   Y   Z\n",
      "A  30  11  33  40\n",
      "B   3  22   4  49\n",
      "C  19  36   6  22\n",
      "D  17  31  25  21\n",
      "E   5  10  42  44\n",
      "\n",
      "    W   X   Y   Z\n",
      "A  30  11  33  40\n",
      "B   3  22   4  49\n",
      "\n",
      "    W   X   Y   Z\n",
      "A  30  11  33  40\n",
      "B   3  22   4  49\n",
      "    W   Z\n",
      "A  30  40\n",
      "B   3  49\n",
      "\n",
      "    W   Z\n",
      "A  30  40\n",
      "B   3  49\n",
      "C  19  22\n",
      "D  17  21\n",
      "E   5  44\n"
     ]
    }
   ],
   "source": [
    "# DataFrame\n",
    "import numpy as np\n",
    "\n",
    "indices = 'A B C D E'.split(' ')\n",
    "colunas = 'W X Y Z'.split(' ')\n",
    "dados = np.random.randint(1, 50, [5,4])\n",
    "df = pd.DataFrame(index=indices, columns=colunas, data=dados)\n",
    "print(df, end='\\n\\n')\n",
    "\n",
    "# Fazendo slicing com ILOC (padrao numpy - indices numericos)\n",
    "# Segue o padrao do numpy ->  linhas - colunas\n",
    "print(df.iloc[0:2, :], end='\\n\\n') # iloc vem de index\n",
    "\n",
    "# Usando loc\n",
    "print(df.loc[['A', 'B'], 'W X Y Z'.split(' ')])\n",
    "\n",
    "# Pegar a coluna W e Y\n",
    "print(df.loc['A B'.split(' '), \"W Z\".split(' ')], end='\\n\\n')\n",
    "print(df['W Z'.split(' ')])\n",
    "\n"
   ]
  },
  {
   "cell_type": "code",
   "execution_count": null,
   "id": "ace009ad",
   "metadata": {},
   "outputs": [],
   "source": []
  },
  {
   "cell_type": "code",
   "execution_count": null,
   "id": "d115a270",
   "metadata": {},
   "outputs": [],
   "source": []
  }
 ],
 "metadata": {
  "kernelspec": {
   "display_name": "c11-nkWhnUAw-py3.13",
   "language": "python",
   "name": "python3"
  },
  "language_info": {
   "codemirror_mode": {
    "name": "ipython",
    "version": 3
   },
   "file_extension": ".py",
   "mimetype": "text/x-python",
   "name": "python",
   "nbconvert_exporter": "python",
   "pygments_lexer": "ipython3",
   "version": "3.13.3"
  }
 },
 "nbformat": 4,
 "nbformat_minor": 5
}
