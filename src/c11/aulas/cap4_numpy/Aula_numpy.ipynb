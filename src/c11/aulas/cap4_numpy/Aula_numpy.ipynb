{
 "cells": [
  {
   "cell_type": "code",
   "execution_count": 2,
   "id": "0b654e76",
   "metadata": {},
   "outputs": [],
   "source": [
    "import numpy as np"
   ]
  },
  {
   "cell_type": "code",
   "execution_count": 6,
   "id": "ef0284aa",
   "metadata": {},
   "outputs": [
    {
     "name": "stdout",
     "output_type": "stream",
     "text": [
      "[1 2 3]\n",
      "<class 'numpy.ndarray'>\n",
      "<class 'numpy.int16'>\n"
     ]
    }
   ],
   "source": [
    "arr1 = np.array([1,2,3], dtype=np.int16)\n",
    "print(arr1)\n",
    "print(type(arr1))\n",
    "print(type(arr1[0]))"
   ]
  },
  {
   "cell_type": "code",
   "execution_count": 15,
   "id": "71f744a1",
   "metadata": {},
   "outputs": [
    {
     "data": {
      "text/plain": [
       "array([[-4,  2,  3],\n",
       "       [ 4,  5,  6]])"
      ]
     },
     "execution_count": 15,
     "metadata": {},
     "output_type": "execute_result"
    }
   ],
   "source": [
    "arr2d = np.array([[-4,2,3],[4,5,6]])\n",
    "arr2d"
   ]
  },
  {
   "cell_type": "code",
   "execution_count": 16,
   "id": "82804576",
   "metadata": {},
   "outputs": [
    {
     "name": "stdout",
     "output_type": "stream",
     "text": [
      "-4 0\n"
     ]
    }
   ],
   "source": [
    "print(arr2d.min(), arr2d.argmin())"
   ]
  },
  {
   "cell_type": "code",
   "execution_count": 17,
   "id": "99f9da18",
   "metadata": {},
   "outputs": [
    {
     "name": "stdout",
     "output_type": "stream",
     "text": [
      "6 5\n"
     ]
    }
   ],
   "source": [
    "print(arr2d.max(), arr2d.argmax())"
   ]
  },
  {
   "cell_type": "code",
   "execution_count": 18,
   "id": "29e73570",
   "metadata": {},
   "outputs": [
    {
     "data": {
      "text/plain": [
       "array([0., 0., 0., 0., 0., 0., 0., 0., 0., 0.])"
      ]
     },
     "execution_count": 18,
     "metadata": {},
     "output_type": "execute_result"
    }
   ],
   "source": [
    "zeros = np.zeros(10)\n",
    "zeros"
   ]
  },
  {
   "cell_type": "code",
   "execution_count": 23,
   "id": "bdac3b75",
   "metadata": {},
   "outputs": [
    {
     "data": {
      "text/plain": [
       "array([[0., 0.],\n",
       "       [0., 0.],\n",
       "       [0., 0.],\n",
       "       [0., 0.],\n",
       "       [0., 0.]])"
      ]
     },
     "execution_count": 23,
     "metadata": {},
     "output_type": "execute_result"
    }
   ],
   "source": [
    "# transformar para matriz\n",
    "zeros_matriz = np.zeros(10).reshape(5,2)\n",
    "zeros_matriz"
   ]
  },
  {
   "cell_type": "code",
   "execution_count": 29,
   "id": "84ec850c",
   "metadata": {},
   "outputs": [
    {
     "name": "stdout",
     "output_type": "stream",
     "text": [
      "[[1 1 1]\n",
      " [1 1 1]\n",
      " [1 1 1]]\n",
      "[ 85  86  87  88  89  90  91  92  93  94  95  96  97  98  99 100]\n"
     ]
    }
   ],
   "source": [
    "a = np.ones([3,3], dtype=np.int16)\n",
    "b = np.arange(85,101)\n",
    "print(a)\n",
    "print(b)"
   ]
  },
  {
   "cell_type": "code",
   "execution_count": 35,
   "id": "144c879e",
   "metadata": {},
   "outputs": [
    {
     "name": "stdout",
     "output_type": "stream",
     "text": [
      "[1 2 3 4 5 6 7 8 9]\n",
      "[9 8 7 6 5 4 3 2 1]\n",
      "[19 18 17 16 15 14 13 12 11]\n"
     ]
    }
   ],
   "source": [
    "c = np.arange(1,10,1)\n",
    "d = np.arange(9,0,-1)\n",
    "print(c)\n",
    "print(d)\n",
    "print(c + d*2)\n"
   ]
  },
  {
   "cell_type": "code",
   "execution_count": 43,
   "id": "d4b701af",
   "metadata": {},
   "outputs": [
    {
     "name": "stdout",
     "output_type": "stream",
     "text": [
      "[1 2 3 4 5 6 7 8 9 9 8 7 6 5 4 3 2 1]\n"
     ]
    }
   ],
   "source": [
    "print(np.concatenate((c,d)))\n"
   ]
  },
  {
   "cell_type": "code",
   "execution_count": null,
   "id": "2153dd50",
   "metadata": {},
   "outputs": [
    {
     "data": {
      "text/plain": [
       "array([[ 50,  10, 100],\n",
       "       [ 60,  25, 100],\n",
       "       [ 75,  80, 100]])"
      ]
     },
     "execution_count": 44,
     "metadata": {},
     "output_type": "execute_result"
    }
   ],
   "source": [
    "matriz = np.array([50,10,100,60,25,100,75,80,100]).reshape(3,3) # agua luz net\n",
    "matriz"
   ]
  },
  {
   "cell_type": "code",
   "execution_count": 50,
   "id": "fc5a984d",
   "metadata": {},
   "outputs": [
    {
     "name": "stdout",
     "output_type": "stream",
     "text": [
      "Valor total das contas no mes:  [160 185 255]\n",
      "Valor total nos tres meses por tipo:  [185 115 300]\n",
      "Valor gasto de net no período:  300\n"
     ]
    }
   ],
   "source": [
    "print(\"Valor total das contas no mes: \", matriz.sum(1)) \n",
    "print(\"Valor total nos tres meses por tipo: \", matriz.sum(0))\n",
    "print(\"Valor gasto de net no período: \", matriz.sum(0)[2])"
   ]
  },
  {
   "cell_type": "code",
   "execution_count": 53,
   "id": "d606729b",
   "metadata": {},
   "outputs": [
    {
     "name": "stdout",
     "output_type": "stream",
     "text": [
      "Matriz dividido por 2:  [[25.   5.  50. ]\n",
      " [30.  12.5 50. ]\n",
      " [37.5 40.  50. ]]\n",
      "Matriz multiplicado por 2:  [[100  20 200]\n",
      " [120  50 200]\n",
      " [150 160 200]]\n",
      "Matriz com 10% de desconto:  [[45.   9.  90. ]\n",
      " [54.  22.5 90. ]\n",
      " [67.5 72.  90. ]]\n"
     ]
    }
   ],
   "source": [
    "# Broadcasting \n",
    "print('Matriz dividido por 2: ', matriz/2)\n",
    "print(\"Matriz multiplicado por 2: \", matriz*2)\n",
    "print(\"Matriz com 10% de desconto: \", matriz * 0.9)"
   ]
  },
  {
   "cell_type": "code",
   "execution_count": null,
   "id": "24e425e0",
   "metadata": {},
   "outputs": [
    {
     "name": "stdout",
     "output_type": "stream",
     "text": [
      "[58 24 88 87 30 68 66 76  8 53]\n",
      "10\n"
     ]
    }
   ],
   "source": [
    "# start, end and len array\n",
    "aleatorio = np.random.randint(1,101,10)\n",
    "print(aleatorio)"
   ]
  },
  {
   "cell_type": "code",
   "execution_count": 58,
   "id": "18feb496",
   "metadata": {},
   "outputs": [
    {
     "name": "stdout",
     "output_type": "stream",
     "text": [
      "[10 16 65 29 90 94 30  9 74  1]\n"
     ]
    }
   ],
   "source": [
    "# semente aleatoria\n",
    "np.random.seed(10)\n",
    "arr = np.random.randint(1,101,10)\n",
    "print(arr)"
   ]
  },
  {
   "cell_type": "code",
   "execution_count": 60,
   "id": "81922ee3",
   "metadata": {},
   "outputs": [
    {
     "data": {
      "text/plain": [
       "array([ 1,  9, 10, 16, 29, 30, 65, 74, 90, 94])"
      ]
     },
     "execution_count": 60,
     "metadata": {},
     "output_type": "execute_result"
    }
   ],
   "source": [
    "np.unique(arr)"
   ]
  },
  {
   "cell_type": "code",
   "execution_count": null,
   "id": "054d3866",
   "metadata": {},
   "outputs": [
    {
     "name": "stdout",
     "output_type": "stream",
     "text": [
      "[6 6 1 9 4 8 2 6 3 4]\n",
      "(array([1, 2, 3, 4, 6, 8, 9]), array([1, 1, 1, 2, 3, 1, 1]))\n"
     ]
    }
   ],
   "source": [
    "e = np.random.randint(1,10,10)\n",
    "print(e)\n",
    "print(np.unique(e, return_counts=True))\n",
    "\n"
   ]
  }
 ],
 "metadata": {
  "kernelspec": {
   "display_name": "c11-nkWhnUAw-py3.13",
   "language": "python",
   "name": "python3"
  },
  "language_info": {
   "codemirror_mode": {
    "name": "ipython",
    "version": 3
   },
   "file_extension": ".py",
   "mimetype": "text/x-python",
   "name": "python",
   "nbconvert_exporter": "python",
   "pygments_lexer": "ipython3",
   "version": "3.13.3"
  }
 },
 "nbformat": 4,
 "nbformat_minor": 5
}
