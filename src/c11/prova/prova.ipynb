{
 "cells": [
  {
   "cell_type": "code",
   "execution_count": null,
   "id": "62b99901",
   "metadata": {},
   "outputs": [],
   "source": []
  },
  {
   "cell_type": "code",
   "execution_count": 1,
   "id": "5c7f6ce4",
   "metadata": {},
   "outputs": [
    {
     "name": "stdout",
     "output_type": "stream",
     "text": [
      "      Customer ID  Age  Gender Item Purchased     Category  \\\n",
      "0               1   55    Male         Blouse     Clothing   \n",
      "1               2   19    Male        Sweater     Clothing   \n",
      "2               3   50    Male          Jeans     Clothing   \n",
      "3               4   21    Male        Sandals     Footwear   \n",
      "4               5   45    Male         Blouse     Clothing   \n",
      "...           ...  ...     ...            ...          ...   \n",
      "3895         3896   40  Female         Hoodie     Clothing   \n",
      "3896         3897   52  Female       Backpack  Accessories   \n",
      "3897         3898   46  Female           Belt  Accessories   \n",
      "3898         3899   44  Female          Shoes     Footwear   \n",
      "3899         3900   52  Female        Handbag  Accessories   \n",
      "\n",
      "      Purchase Amount (USD)       Location Size      Color  Season  \\\n",
      "0                        53       Kentucky    L       Gray  Winter   \n",
      "1                        64          Maine    L     Maroon  Winter   \n",
      "2                        73  Massachusetts    S     Maroon  Spring   \n",
      "3                        90   Rhode Island    M     Maroon  Spring   \n",
      "4                        49         Oregon    M  Turquoise  Spring   \n",
      "...                     ...            ...  ...        ...     ...   \n",
      "3895                     28       Virginia    L  Turquoise  Summer   \n",
      "3896                     49           Iowa    L      White  Spring   \n",
      "3897                     33     New Jersey    L      Green  Spring   \n",
      "3898                     77      Minnesota    S      Brown  Summer   \n",
      "3899                     81     California    M      Beige  Spring   \n",
      "\n",
      "      Review Rating Subscription Status   Shipping Type Discount Applied  \\\n",
      "0               3.1                 Yes         Express              Yes   \n",
      "1               3.1                 Yes         Express              Yes   \n",
      "2               3.1                 Yes   Free Shipping              Yes   \n",
      "3               3.5                 Yes    Next Day Air              Yes   \n",
      "4               2.7                 Yes   Free Shipping              Yes   \n",
      "...             ...                 ...             ...              ...   \n",
      "3895            4.2                  No  2-Day Shipping               No   \n",
      "3896            4.5                  No    Store Pickup               No   \n",
      "3897            2.9                  No        Standard               No   \n",
      "3898            3.8                  No         Express               No   \n",
      "3899            3.1                  No    Store Pickup               No   \n",
      "\n",
      "     Promo Code Used  Previous Purchases Payment Method Frequency of Purchases  \n",
      "0                Yes                  14          Venmo            Fortnightly  \n",
      "1                Yes                   2           Cash            Fortnightly  \n",
      "2                Yes                  23    Credit Card                 Weekly  \n",
      "3                Yes                  49         PayPal                 Weekly  \n",
      "4                Yes                  31         PayPal               Annually  \n",
      "...              ...                 ...            ...                    ...  \n",
      "3895              No                  32          Venmo                 Weekly  \n",
      "3896              No                  41  Bank Transfer              Bi-Weekly  \n",
      "3897              No                  24          Venmo              Quarterly  \n",
      "3898              No                  24          Venmo                 Weekly  \n",
      "3899              No                  33          Venmo              Quarterly  \n",
      "\n",
      "[3900 rows x 18 columns]\n"
     ]
    }
   ],
   "source": [
    "import numpy as np\n",
    "import pandas as pd\n",
    "\n",
    "# df = np.loadtxt('/home/nkk/Área de trabalho/projetos/prova_ciencia/src/shopping_trends.csv', delimiter=',', encoding='utf-8', dtype=str)\n",
    "\n",
    "df = pd.read_csv('/home/nkk/Área de trabalho/projetos/prova_ciencia/src/shopping_trends.csv')\n",
    "\n",
    "print(df)"
   ]
  },
  {
   "cell_type": "code",
   "execution_count": 53,
   "id": "e5136aa0",
   "metadata": {},
   "outputs": [
    {
     "name": "stdout",
     "output_type": "stream",
     "text": [
      "Média da idades dos homens presentes no dataset:  44.0972850678733\n"
     ]
    }
   ],
   "source": [
    "# Exercicio 1 - Media da idade dos homens no dataset\n",
    "\n",
    "homens = df[\"Gender\"] == 'Male' \n",
    "idade = df['Age']\n",
    "idade = np.array(idade)\n",
    "\n",
    "print(\"Média da idades dos homens presentes no dataset: \", np.mean(idade[homens]))"
   ]
  },
  {
   "cell_type": "code",
   "execution_count": 2,
   "id": "4f1a17df",
   "metadata": {},
   "outputs": [
    {
     "name": "stdout",
     "output_type": "stream",
     "text": [
      "[False  True] [1937 1963]\n",
      "Quantidade de pessoas que gastaram a mais da media: 1963\n"
     ]
    }
   ],
   "source": [
    "\n",
    "\n",
    "# Exercicio 2 - Mostre quantos clientes gastaram mais que a média de gastos das compras deste \n",
    "# dataset\n",
    "\n",
    "compras = df['Purchase Amount (USD)']\n",
    "compras = np.array(compras)\n",
    "\n",
    "media_gastos = np.mean(compras)\n",
    "\n",
    "cont = compras > media_gastos\n",
    "\n",
    "pessoa, contagem = np.unique(cont, return_counts=True)\n",
    "print(pessoa, contagem)\n",
    "\n",
    "print(f\"Quantidade de pessoas que gastaram a mais da media: {contagem[1]}\")\n"
   ]
  },
  {
   "cell_type": "code",
   "execution_count": 3,
   "id": "a501012e",
   "metadata": {},
   "outputs": [
    {
     "name": "stdout",
     "output_type": "stream",
     "text": [
      "Porcentagem do item menos vendido da loja é 3.18 %\n"
     ]
    }
   ],
   "source": [
    "# 3 - Mostre qual é a porcentagem de vendas do item menos vendido da loja;\n",
    "itens = df['Item Purchased']\n",
    "itens = np.array(itens)\n",
    "\n",
    "produtos, count = np.unique(itens, return_counts=True)\n",
    "\n",
    "quantidade_total_itens = np.sum(count)\n",
    "index_min = count.argmin()\n",
    "quantidade_min = count.min()\n",
    "\n",
    "produto = itens[index_min]\n",
    "\n",
    "print(f'Porcentagem do item menos vendido da loja é {(quantidade_min/quantidade_total_itens)*100:.2f} %')\n"
   ]
  },
  {
   "cell_type": "code",
   "execution_count": 5,
   "id": "b48f64be",
   "metadata": {},
   "outputs": [
    {
     "name": "stdout",
     "output_type": "stream",
     "text": [
      "['No' 'Yes'] [2223 1677]\n",
      "3900\n",
      "Porcentagem de venda que tiveram desconto: 43.00%\n"
     ]
    }
   ],
   "source": [
    "# 4 - Mostre qual a porcentagem de vendas que tiveram algum tipo de desconto;\n",
    "\n",
    "vendas = df['Discount Applied']\n",
    "vendas = np.array(vendas)\n",
    "\n",
    "venda, quantidade = np.unique(vendas, return_counts=True)\n",
    "print(venda, quantidade)\n",
    "vendas_totais = np.sum(quantidade)\n",
    "print(vendas_totais)\n",
    "vendas_com_desconto = quantidade[1]\n",
    "print(f\"Porcentagem de venda que tiveram desconto: {(vendas_com_desconto/vendas_totais) * 100 :.2f}%\")\n"
   ]
  },
  {
   "cell_type": "code",
   "execution_count": 11,
   "id": "4fb251eb",
   "metadata": {},
   "outputs": [
    {
     "name": "stdout",
     "output_type": "stream",
     "text": [
      "Cor mais popular no verao no dataset:  Olive\n"
     ]
    }
   ],
   "source": [
    "# 5 - Mostre qual a cor de roupa mais popular no verão segundo este dataset.\n",
    "\n",
    "cor = df['Color']\n",
    "cor = np.array(cor)\n",
    "verao = df['Season'] == \"Summer\"\n",
    "\n",
    "cor_verao = cor[verao]\n",
    "# print(cor_verao)\n",
    "\n",
    "cores, quantidade = np.unique(cor, return_counts=True)\n",
    "# print(cores, quantidade)\n",
    "index = quantidade.argmax()\n",
    "cor_mais_usada = cores[index]\n",
    "# print(cor_mais_usada)\n",
    "\n",
    "print(\"Cor mais popular no verao no dataset: \", cor_mais_usada)\n"
   ]
  },
  {
   "cell_type": "code",
   "execution_count": null,
   "id": "52c6dc87",
   "metadata": {},
   "outputs": [],
   "source": []
  }
 ],
 "metadata": {
  "kernelspec": {
   "display_name": "prova-ciencia-vvAcQXuK-py3.13",
   "language": "python",
   "name": "python3"
  },
  "language_info": {
   "codemirror_mode": {
    "name": "ipython",
    "version": 3
   },
   "file_extension": ".py",
   "mimetype": "text/x-python",
   "name": "python",
   "nbconvert_exporter": "python",
   "pygments_lexer": "ipython3",
   "version": "3.13.3"
  }
 },
 "nbformat": 4,
 "nbformat_minor": 5
}
